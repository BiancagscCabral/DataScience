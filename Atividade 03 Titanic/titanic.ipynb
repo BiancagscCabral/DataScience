{
  "nbformat": 4,
  "nbformat_minor": 0,
  "metadata": {
    "colab": {
      "provenance": [],
      "authorship_tag": "ABX9TyOdsp3RF//ivTu3Kk5sVCdC",
      "include_colab_link": true
    },
    "kernelspec": {
      "name": "python3",
      "display_name": "Python 3"
    },
    "language_info": {
      "name": "python"
    }
  },
  "cells": [
    {
      "cell_type": "markdown",
      "metadata": {
        "id": "view-in-github",
        "colab_type": "text"
      },
      "source": [
        "<a href=\"https://colab.research.google.com/github/BiancagscCabral/DataScience/blob/main/Atividade%2003%20Titanic/titanic.ipynb\" target=\"_parent\"><img src=\"https://colab.research.google.com/assets/colab-badge.svg\" alt=\"Open In Colab\"/></a>"
      ]
    },
    {
      "cell_type": "markdown",
      "source": [],
      "metadata": {
        "id": "eGkBMtUboNec"
      }
    },
    {
      "cell_type": "code",
      "source": [
        "import pandas as pd\n",
        "import matplotlib.pyplot as plt\n",
        "import seaborn as sns\n",
        "from sklearn.preprocessing import LabelEncoder, StandardScaler\n"
      ],
      "metadata": {
        "id": "zfpp4xKumV0C"
      },
      "execution_count": 4,
      "outputs": []
    },
    {
      "cell_type": "code",
      "source": [
        "df = pd.read_csv('train.csv')\n",
        "df_original_para_graficos = df.copy()\n",
        "print(\"Informações Iniciais do Dataset\")\n",
        "df.info()\n",
        "print(\"\\n\")\n",
        "\n",
        "df['Age'] = df['Age'].fillna(df['Age'].median())\n",
        "df['Embarked'] = df['Embarked'].fillna(df['Embarked'].mode()[0])\n",
        "df.drop('Cabin', axis=1, inplace=True)\n",
        "\n",
        "label_encoder = LabelEncoder()\n",
        "df['Sex'] = label_encoder.fit_transform(df['Sex'])\n",
        "df['Embarked'] = label_encoder.fit_transform(df['Embarked'])\n",
        "\n",
        "numeric_cols = ['Age', 'Fare', 'Pclass', 'SibSp', 'Parch']\n",
        "scaler = StandardScaler()\n",
        "df[numeric_cols] = scaler.fit_transform(df[numeric_cols])"
      ],
      "metadata": {
        "colab": {
          "base_uri": "https://localhost:8080/"
        },
        "id": "0oCEIhN4m4e1",
        "outputId": "1c432e2f-8e9f-4241-b55f-488ab9d4b774"
      },
      "execution_count": 5,
      "outputs": [
        {
          "output_type": "stream",
          "name": "stdout",
          "text": [
            "Informações Iniciais do Dataset\n",
            "<class 'pandas.core.frame.DataFrame'>\n",
            "RangeIndex: 891 entries, 0 to 890\n",
            "Data columns (total 12 columns):\n",
            " #   Column       Non-Null Count  Dtype  \n",
            "---  ------       --------------  -----  \n",
            " 0   PassengerId  891 non-null    int64  \n",
            " 1   Survived     891 non-null    int64  \n",
            " 2   Pclass       891 non-null    int64  \n",
            " 3   Name         891 non-null    object \n",
            " 4   Sex          891 non-null    object \n",
            " 5   Age          714 non-null    float64\n",
            " 6   SibSp        891 non-null    int64  \n",
            " 7   Parch        891 non-null    int64  \n",
            " 8   Ticket       891 non-null    object \n",
            " 9   Fare         891 non-null    float64\n",
            " 10  Cabin        204 non-null    object \n",
            " 11  Embarked     889 non-null    object \n",
            "dtypes: float64(2), int64(5), object(5)\n",
            "memory usage: 83.7+ KB\n",
            "\n",
            "\n"
          ]
        }
      ]
    },
    {
      "cell_type": "code",
      "execution_count": 6,
      "metadata": {
        "colab": {
          "base_uri": "https://localhost:8080/"
        },
        "id": "pFj-iTeAf4Lj",
        "outputId": "3ee328a2-4299-4cb5-884b-00ad73b62d04"
      },
      "outputs": [
        {
          "output_type": "stream",
          "name": "stdout",
          "text": [
            "Tratamento de dados concluído com sucesso!\n",
            "\n",
            "Resumo das ações:\n",
            "- Dados ausentes em 'Age' foram preenchidos com a mediana: 28.00\n",
            "- Dados ausentes em 'Embarked' foram preenchidos com a moda: S\n",
            "- A coluna 'Cabin' foi removida por ter um excesso de valores ausentes.\n",
            "- A coluna 'Sex' foi traduzida para português.\n",
            "- A coluna 'Embarked' teve seus códigos traduzidos para os nomes dos portos.\n",
            "\n",
            "O arquivo com os dados tratados foi salvo como: 'titanic_tratado.csv'\n",
            "\n",
            "\n",
            "As 5 primeiras linhas do arquivo tratado:\n",
            "   PassengerId  Survived  Pclass  \\\n",
            "0            1         0       3   \n",
            "1            2         1       1   \n",
            "2            3         1       3   \n",
            "3            4         1       1   \n",
            "4            5         0       3   \n",
            "\n",
            "                                                Name        Sex   Age  SibSp  \\\n",
            "0                            Braund, Mr. Owen Harris  masculino  22.0      1   \n",
            "1  Cumings, Mrs. John Bradley (Florence Briggs Th...   feminino  38.0      1   \n",
            "2                             Heikkinen, Miss. Laina   feminino  26.0      0   \n",
            "3       Futrelle, Mrs. Jacques Heath (Lily May Peel)   feminino  35.0      1   \n",
            "4                           Allen, Mr. William Henry  masculino  35.0      0   \n",
            "\n",
            "   Parch            Ticket     Fare     Embarked  \n",
            "0      0         A/5 21171   7.2500  Southampton  \n",
            "1      0          PC 17599  71.2833    Cherburgo  \n",
            "2      0  STON/O2. 3101282   7.9250  Southampton  \n",
            "3      0            113803  53.1000  Southampton  \n",
            "4      0            373450   8.0500  Southampton  \n",
            "\n",
            "\n",
            "Verificação final de dados ausentes no novo arquivo:\n",
            "PassengerId    0\n",
            "Survived       0\n",
            "Pclass         0\n",
            "Name           0\n",
            "Sex            0\n",
            "Age            0\n",
            "SibSp          0\n",
            "Parch          0\n",
            "Ticket         0\n",
            "Fare           0\n",
            "Embarked       0\n",
            "dtype: int64\n"
          ]
        },
        {
          "output_type": "stream",
          "name": "stderr",
          "text": [
            "/tmp/ipython-input-1619334216.py:7: FutureWarning: A value is trying to be set on a copy of a DataFrame or Series through chained assignment using an inplace method.\n",
            "The behavior will change in pandas 3.0. This inplace method will never work because the intermediate object on which we are setting values always behaves as a copy.\n",
            "\n",
            "For example, when doing 'df[col].method(value, inplace=True)', try using 'df.method({col: value}, inplace=True)' or df[col] = df[col].method(value) instead, to perform the operation inplace on the original object.\n",
            "\n",
            "\n",
            "  df['Age'].fillna(median_age, inplace=True)\n",
            "/tmp/ipython-input-1619334216.py:10: FutureWarning: A value is trying to be set on a copy of a DataFrame or Series through chained assignment using an inplace method.\n",
            "The behavior will change in pandas 3.0. This inplace method will never work because the intermediate object on which we are setting values always behaves as a copy.\n",
            "\n",
            "For example, when doing 'df[col].method(value, inplace=True)', try using 'df.method({col: value}, inplace=True)' or df[col] = df[col].method(value) instead, to perform the operation inplace on the original object.\n",
            "\n",
            "\n",
            "  df['Embarked'].fillna(mode_embarked, inplace=True)\n"
          ]
        }
      ],
      "source": [
        "\n",
        "\n",
        "# Carregarando o arquivo\n",
        "df = pd.read_csv('train.csv')\n",
        "\n",
        "# 1. Tratando os Dados Ausentes\n",
        "\n",
        "median_age = df['Age'].median()\n",
        "df['Age'].fillna(median_age, inplace=True)\n",
        "\n",
        "mode_embarked = df['Embarked'].mode()[0]\n",
        "df['Embarked'].fillna(mode_embarked, inplace=True)\n",
        "\n",
        "df.drop('Cabin', axis=1, inplace=True)\n",
        "\n",
        "#  2. Tradução da coluna 'Sex'\n",
        "sex_map = {\n",
        "    'male': 'masculino',\n",
        "    'female': 'feminino'\n",
        "}\n",
        "df['Sex'] = df['Sex'].map(sex_map)\n",
        "\n",
        "# --- 3. Tradução da coluna 'Embarked'\n",
        "embarked_map = {\n",
        "    'S': 'Southampton',\n",
        "    'C': 'Cherburgo',\n",
        "    'Q': 'Queenstown' # Mantido para corresponder à instrução, embora o nome histórico seja outro.\n",
        "}\n",
        "df['Embarked'] = df['Embarked'].map(embarked_map)\n",
        "\n",
        "\n",
        "# Salvar o DataFrame tratado em um novo arquivo CSV\n",
        "output_file = 'titanic_tratado.csv'\n",
        "df.to_csv(output_file, index=False)\n",
        "\n",
        "# Exibir um resumo das alterações e as primeiras linhas do novo DataFrame\n",
        "print(\"Tratamento de dados concluído com sucesso!\")\n",
        "print(\"\\nResumo das ações:\")\n",
        "print(f\"- Dados ausentes em 'Age' foram preenchidos com a mediana: {median_age:.2f}\")\n",
        "print(f\"- Dados ausentes em 'Embarked' foram preenchidos com a moda: {mode_embarked}\")\n",
        "print(\"- A coluna 'Cabin' foi removida por ter um excesso de valores ausentes.\")\n",
        "print(\"- A coluna 'Sex' foi traduzida para português.\")\n",
        "print(\"- A coluna 'Embarked' teve seus códigos traduzidos para os nomes dos portos.\")\n",
        "\n",
        "print(f\"\\nO arquivo com os dados tratados foi salvo como: '{output_file}'\")\n",
        "\n",
        "print(\"\\n\\nAs 5 primeiras linhas do arquivo tratado:\")\n",
        "print(df.head())\n",
        "\n",
        "# Verificar se ainda existem dados ausentes\n",
        "print(\"\\n\\nVerificação final de dados ausentes no novo arquivo:\")\n",
        "print(df.isnull().sum())"
      ]
    },
    {
      "cell_type": "code",
      "source": [
        "\n",
        "\n",
        "# Carregar o arquivo CSV tratado anteriormente\n",
        "try:\n",
        "    df = pd.read_csv('titanic_tratado.csv')\n",
        "except FileNotFoundError:\n",
        "    print(\"O arquivo 'titanic_tratado.csv' não foi encontrado.\")\n",
        "    print(\"Por favor, execute o passo de tratamento de dados ausentes primeiro.\")\n",
        "    exit()\n",
        "\n",
        "# Inicializar o LabelEncoder\n",
        "label_encoder = LabelEncoder()\n",
        "\n",
        "# Criar cópias dos mapeamentos para exibir ao usuário\n",
        "sex_mapping = dict(zip(df['Sex'].unique(), label_encoder.fit_transform(df['Sex'].unique())))\n",
        "embarked_mapping = dict(zip(df['Embarked'].unique(), label_encoder.fit_transform(df['Embarked'].unique())))\n",
        "\n",
        "\n",
        "# Aplicar o LabelEncoder na coluna 'Sex'\n",
        "df['Sex'] = label_encoder.fit_transform(df['Sex'])\n",
        "\n",
        "# Aplicar o LabelEncoder na coluna 'Embarked'\n",
        "df['Embarked'] = label_encoder.fit_transform(df['Embarked'])\n",
        "\n",
        "# Salvar o novo DataFrame em um arquivo CSV\n",
        "output_file_numeric = 'titanic_numerico.csv'\n",
        "df.to_csv(output_file_numeric, index=False)\n",
        "\n",
        "# Exibir os resultados e os mapeamentos para o usuário\n",
        "print(\"Transformação de dados categóricos em numéricos concluída!\")\n",
        "print(\"\\nAs seguintes colunas foram transformadas:\")\n",
        "\n",
        "print(\"\\n1. Coluna 'Sex':\")\n",
        "print(\"Mapeamento criado:\")\n",
        "for category, code in sex_mapping.items():\n",
        "    print(f\"- '{category}' foi transformado para o número {code}\")\n",
        "\n",
        "\n",
        "print(\"\\n2. Coluna 'Embarked':\")\n",
        "print(\"Mapeamento criado:\")\n",
        "for category, code in embarked_mapping.items():\n",
        "    print(f\"- '{category}' foi transformado para o número {code}\")\n",
        "\n",
        "\n",
        "print(f\"\\nO novo arquivo com os dados numéricos foi salvo como: '{output_file_numeric}'\")\n",
        "\n",
        "print(\"\\n\\nAs 5 primeiras linhas do novo arquivo:\")\n",
        "print(df.head())"
      ],
      "metadata": {
        "colab": {
          "base_uri": "https://localhost:8080/"
        },
        "id": "FVlqeDA9jg1k",
        "outputId": "d0603980-3c94-4066-ef6c-4dc37c1ef771"
      },
      "execution_count": 7,
      "outputs": [
        {
          "output_type": "stream",
          "name": "stdout",
          "text": [
            "Transformação de dados categóricos em numéricos concluída!\n",
            "\n",
            "As seguintes colunas foram transformadas:\n",
            "\n",
            "1. Coluna 'Sex':\n",
            "Mapeamento criado:\n",
            "- 'masculino' foi transformado para o número 1\n",
            "- 'feminino' foi transformado para o número 0\n",
            "\n",
            "2. Coluna 'Embarked':\n",
            "Mapeamento criado:\n",
            "- 'Southampton' foi transformado para o número 2\n",
            "- 'Cherburgo' foi transformado para o número 0\n",
            "- 'Queenstown' foi transformado para o número 1\n",
            "\n",
            "O novo arquivo com os dados numéricos foi salvo como: 'titanic_numerico.csv'\n",
            "\n",
            "\n",
            "As 5 primeiras linhas do novo arquivo:\n",
            "   PassengerId  Survived  Pclass  \\\n",
            "0            1         0       3   \n",
            "1            2         1       1   \n",
            "2            3         1       3   \n",
            "3            4         1       1   \n",
            "4            5         0       3   \n",
            "\n",
            "                                                Name  Sex   Age  SibSp  Parch  \\\n",
            "0                            Braund, Mr. Owen Harris    1  22.0      1      0   \n",
            "1  Cumings, Mrs. John Bradley (Florence Briggs Th...    0  38.0      1      0   \n",
            "2                             Heikkinen, Miss. Laina    0  26.0      0      0   \n",
            "3       Futrelle, Mrs. Jacques Heath (Lily May Peel)    0  35.0      1      0   \n",
            "4                           Allen, Mr. William Henry    1  35.0      0      0   \n",
            "\n",
            "             Ticket     Fare  Embarked  \n",
            "0         A/5 21171   7.2500         2  \n",
            "1          PC 17599  71.2833         0  \n",
            "2  STON/O2. 3101282   7.9250         2  \n",
            "3            113803  53.1000         2  \n",
            "4            373450   8.0500         2  \n"
          ]
        }
      ]
    },
    {
      "cell_type": "code",
      "source": [
        "\n",
        "\n",
        "# Carregar o arquivo CSV numérico\n",
        "try:\n",
        "    df = pd.read_csv('titanic_numerico.csv')\n",
        "except FileNotFoundError:\n",
        "    print(\"O arquivo 'titanic_numerico.csv' não foi encontrado.\")\n",
        "    print(\"Por favor, execute o passo de transformação de categóricos para numéricos primeiro.\")\n",
        "    exit()\n",
        "\n",
        "# Colunas que não são features para o modelo e devem ser removidas antes da modelagem.\n",
        "# 'PassengerId' é apenas um identificador.\n",
        "# 'Name' e 'Ticket' têm alta cardinalidade e não serão usadas em modelos simples.\n",
        "df_model = df.drop(['PassengerId', 'Name', 'Ticket'], axis=1)\n",
        "\n",
        "# Identificar as colunas a serem padronizadas\n",
        "# Geralmente, aplicamos a padronização em features contínuas.\n",
        "# 'Age' e 'Fare' são as candidatas ideais.\n",
        "cols_to_scale = ['Age', 'Fare']\n",
        "\n",
        "# Inicializar o StandardScaler\n",
        "scaler = StandardScaler()\n",
        "\n",
        "# Aplicar o scaler nas colunas selecionadas\n",
        "# O scaler retorna um array numpy, então criamos um novo DataFrame\n",
        "# com os dados escalados e mantemos os nomes das colunas.\n",
        "df_scaled_cols = pd.DataFrame(scaler.fit_transform(df_model[cols_to_scale]), columns=cols_to_scale)\n",
        "\n",
        "# Atualizar as colunas originais com os valores padronizados\n",
        "df_model[cols_to_scale] = df_scaled_cols\n",
        "\n",
        "# Salvar o DataFrame final e padronizado em um novo arquivo CSV\n",
        "output_file_scaled = 'titanic_padronizado.csv'\n",
        "df_model.to_csv(output_file_scaled, index=False)\n",
        "\n",
        "\n",
        "# Exibir os resultados para o usuário\n",
        "print(\"Padronização de dados concluída com sucesso!\")\n",
        "print(\"\\nAs seguintes colunas foram padronizadas usando StandardScaler (média 0, desvio padrão 1):\")\n",
        "print(f\"- {cols_to_scale[0]}\")\n",
        "print(f\"- {cols_to_scale[1]}\")\n",
        "\n",
        "print(\"\\nAs colunas 'PassengerId', 'Name' e 'Ticket' foram removidas pois não serão utilizadas no treinamento do modelo.\")\n",
        "\n",
        "print(f\"\\nO arquivo final, pronto para a modelagem, foi salvo como: '{output_file_scaled}'\")\n",
        "\n",
        "print(\"\\n\\nAs 5 primeiras linhas do novo arquivo padronizado:\")\n",
        "print(df_model.head())\n",
        "\n",
        "print(\"\\n\\nVerificação da média e desvio padrão das colunas padronizadas (devem ser aprox. 0 e 1):\")\n",
        "print(df_model[cols_to_scale].describe())"
      ],
      "metadata": {
        "colab": {
          "base_uri": "https://localhost:8080/"
        },
        "id": "9RRDwRFlj9Mp",
        "outputId": "d64c9e28-4aaf-4e76-83e9-b171d8da511c"
      },
      "execution_count": 8,
      "outputs": [
        {
          "output_type": "stream",
          "name": "stdout",
          "text": [
            "Padronização de dados concluída com sucesso!\n",
            "\n",
            "As seguintes colunas foram padronizadas usando StandardScaler (média 0, desvio padrão 1):\n",
            "- Age\n",
            "- Fare\n",
            "\n",
            "As colunas 'PassengerId', 'Name' e 'Ticket' foram removidas pois não serão utilizadas no treinamento do modelo.\n",
            "\n",
            "O arquivo final, pronto para a modelagem, foi salvo como: 'titanic_padronizado.csv'\n",
            "\n",
            "\n",
            "As 5 primeiras linhas do novo arquivo padronizado:\n",
            "   Survived  Pclass  Sex       Age  SibSp  Parch      Fare  Embarked\n",
            "0         0       3    1 -0.565736      1      0 -0.502445         2\n",
            "1         1       1    0  0.663861      1      0  0.786845         0\n",
            "2         1       3    0 -0.258337      0      0 -0.488854         2\n",
            "3         1       1    0  0.433312      1      0  0.420730         2\n",
            "4         0       3    1  0.433312      0      0 -0.486337         2\n",
            "\n",
            "\n",
            "Verificação da média e desvio padrão das colunas padronizadas (devem ser aprox. 0 e 1):\n",
            "                Age          Fare\n",
            "count  8.910000e+02  8.910000e+02\n",
            "mean   2.272780e-16  3.987333e-18\n",
            "std    1.000562e+00  1.000562e+00\n",
            "min   -2.224156e+00 -6.484217e-01\n",
            "25%   -5.657365e-01 -4.891482e-01\n",
            "50%   -1.046374e-01 -3.573909e-01\n",
            "75%    4.333115e-01 -2.424635e-02\n",
            "max    3.891554e+00  9.667167e+00\n"
          ]
        }
      ]
    },
    {
      "cell_type": "code",
      "source": [],
      "metadata": {
        "id": "drTd0mAjm29w"
      },
      "execution_count": 8,
      "outputs": []
    },
    {
      "cell_type": "code",
      "source": [
        "\n",
        "\n",
        "# Carregar o arquivo com os dados numéricos (antes da padronização)\n",
        "# para que as estatísticas sejam interpretáveis\n",
        "try:\n",
        "    df = pd.read_csv('titanic_numerico.csv')\n",
        "except FileNotFoundError:\n",
        "    print(\"O arquivo 'titanic_numerico.csv' não foi encontrado.\")\n",
        "    print(\"Por favor, execute os passos anteriores de pré-processamento.\")\n",
        "    exit()\n",
        "\n",
        "print(\"--- Análise Descritiva do Conjunto de Dados Titanic ---\\n\")\n",
        "\n",
        "# 1. Média, Mediana, Desvio Padrão (e outras estatísticas) com .describe()\n",
        "print(\"1. Resumo Estatístico (Média, Mediana, Desvio Padrão, etc.):\")\n",
        "# Traduzindo o índice para melhor entendimento\n",
        "estatisticas_descritivas = df.describe()\n",
        "estatisticas_descritivas.index = [\n",
        "    'Contagem', 'Média', 'Desvio Padrão', 'Mínimo',\n",
        "    '25% (1º Quartil)', '50% (Mediana)', '75% (3º Quartil)', 'Máximo'\n",
        "]\n",
        "print(estatisticas_descritivas)\n",
        "print(\"\\n\" + \"=\"*50 + \"\\n\")\n",
        "\n",
        "# 2. Moda\n",
        "print(\"2. Moda (valor mais frequente) para cada coluna:\")\n",
        "moda = df.mode().iloc[0] # Pega a primeira linha caso haja mais de uma moda\n",
        "print(moda)\n",
        "print(\"\\n\" + \"=\"*50 + \"\\n\")\n",
        "\n",
        "\n",
        "# 3. Frequências para as principais colunas categóricas/discretas\n",
        "print(\"3. Frequências das principais colunas:\")\n",
        "\n",
        "# Frequência de Sobreviventes\n",
        "print(\"\\n--- Frequência de Sobrevivência ---\")\n",
        "freq_survived = df['Survived'].value_counts()\n",
        "freq_survived.index = freq_survived.index.map({0: 'Não Sobreviveu', 1: 'Sobreviveu'})\n",
        "print(freq_survived)\n",
        "\n",
        "# Frequência por Classe\n",
        "print(\"\\n--- Frequência por Classe (Pclass) ---\")\n",
        "freq_pclass = df['Pclass'].value_counts()\n",
        "freq_pclass.index = freq_pclass.index.map({1: '1ª Classe', 2: '2ª Classe', 3: '3ª Classe'})\n",
        "print(freq_pclass)\n",
        "\n",
        "# Frequência por Sexo\n",
        "print(\"\\n--- Frequência por Sexo ---\")\n",
        "freq_sex = df['Sex'].value_counts()\n",
        "freq_sex.index = freq_sex.index.map({1: 'Masculino', 0: 'Feminino'})\n",
        "print(freq_sex)\n",
        "\n",
        "# Frequência por Porto de Embarque\n",
        "print(\"\\n--- Frequência por Porto de Embarque (Embarked) ---\")\n",
        "freq_embarked = df['Embarked'].value_counts()\n",
        "freq_embarked.index = freq_embarked.index.map({2: 'Southampton', 0: 'Cherburgo', 1: 'Queenstown'})\n",
        "print(freq_embarked)"
      ],
      "metadata": {
        "colab": {
          "base_uri": "https://localhost:8080/"
        },
        "id": "GlbKCB-xkDCQ",
        "outputId": "4b09e7ab-41d1-4c5d-e231-6653cc94af1d"
      },
      "execution_count": 9,
      "outputs": [
        {
          "output_type": "stream",
          "name": "stdout",
          "text": [
            "--- Análise Descritiva do Conjunto de Dados Titanic ---\n",
            "\n",
            "1. Resumo Estatístico (Média, Mediana, Desvio Padrão, etc.):\n",
            "                  PassengerId    Survived      Pclass         Sex         Age  \\\n",
            "Contagem           891.000000  891.000000  891.000000  891.000000  891.000000   \n",
            "Média              446.000000    0.383838    2.308642    0.647587   29.361582   \n",
            "Desvio Padrão      257.353842    0.486592    0.836071    0.477990   13.019697   \n",
            "Mínimo               1.000000    0.000000    1.000000    0.000000    0.420000   \n",
            "25% (1º Quartil)   223.500000    0.000000    2.000000    0.000000   22.000000   \n",
            "50% (Mediana)      446.000000    0.000000    3.000000    1.000000   28.000000   \n",
            "75% (3º Quartil)   668.500000    1.000000    3.000000    1.000000   35.000000   \n",
            "Máximo             891.000000    1.000000    3.000000    1.000000   80.000000   \n",
            "\n",
            "                       SibSp       Parch        Fare    Embarked  \n",
            "Contagem          891.000000  891.000000  891.000000  891.000000  \n",
            "Média               0.523008    0.381594   32.204208    1.536476  \n",
            "Desvio Padrão       1.102743    0.806057   49.693429    0.791503  \n",
            "Mínimo              0.000000    0.000000    0.000000    0.000000  \n",
            "25% (1º Quartil)    0.000000    0.000000    7.910400    1.000000  \n",
            "50% (Mediana)       0.000000    0.000000   14.454200    2.000000  \n",
            "75% (3º Quartil)    1.000000    0.000000   31.000000    2.000000  \n",
            "Máximo              8.000000    6.000000  512.329200    2.000000  \n",
            "\n",
            "==================================================\n",
            "\n",
            "2. Moda (valor mais frequente) para cada coluna:\n",
            "PassengerId                      1\n",
            "Survived                       0.0\n",
            "Pclass                         3.0\n",
            "Name           Abbing, Mr. Anthony\n",
            "Sex                            1.0\n",
            "Age                           28.0\n",
            "SibSp                          0.0\n",
            "Parch                          0.0\n",
            "Ticket                        1601\n",
            "Fare                          8.05\n",
            "Embarked                       2.0\n",
            "Name: 0, dtype: object\n",
            "\n",
            "==================================================\n",
            "\n",
            "3. Frequências das principais colunas:\n",
            "\n",
            "--- Frequência de Sobrevivência ---\n",
            "Survived\n",
            "Não Sobreviveu    549\n",
            "Sobreviveu        342\n",
            "Name: count, dtype: int64\n",
            "\n",
            "--- Frequência por Classe (Pclass) ---\n",
            "Pclass\n",
            "3ª Classe    491\n",
            "1ª Classe    216\n",
            "2ª Classe    184\n",
            "Name: count, dtype: int64\n",
            "\n",
            "--- Frequência por Sexo ---\n",
            "Sex\n",
            "Masculino    577\n",
            "Feminino     314\n",
            "Name: count, dtype: int64\n",
            "\n",
            "--- Frequência por Porto de Embarque (Embarked) ---\n",
            "Embarked\n",
            "Southampton    646\n",
            "Cherburgo      168\n",
            "Queenstown      77\n",
            "Name: count, dtype: int64\n"
          ]
        }
      ]
    },
    {
      "cell_type": "code",
      "source": [
        "\n",
        "\n",
        "# Configurar estilo dos gráficos\n",
        "sns.set_theme(style=\"whitegrid\")\n",
        "\n",
        "# Carregar o arquivo com os dados tratados (com textos, para melhores legendas)\n",
        "try:\n",
        "    df = pd.read_csv('titanic_tratado.csv')\n",
        "except FileNotFoundError:\n",
        "    print(\"O arquivo 'titanic_tratado.csv' não foi encontrado.\")\n",
        "    exit()\n",
        "\n",
        "# --- 1. Histograma: Distribuição de Idades ---\n",
        "plt.figure(figsize=(10, 6))\n",
        "sns.histplot(df['Age'], kde=True, bins=30)\n",
        "plt.title('Histograma - Distribuição de Idades dos Passageiros', fontsize=16)\n",
        "plt.xlabel('Idade (Anos)', fontsize=12)\n",
        "plt.ylabel('Frequência', fontsize=12)\n",
        "plt.savefig('histograma_idade.png')\n",
        "plt.close()\n",
        "print(\"Gráfico 'histograma_idade.png' gerado.\")"
      ],
      "metadata": {
        "colab": {
          "base_uri": "https://localhost:8080/"
        },
        "id": "05GhbQnuklHb",
        "outputId": "cc35b831-dec0-431a-f14e-57250d5190eb"
      },
      "execution_count": 10,
      "outputs": [
        {
          "output_type": "stream",
          "name": "stdout",
          "text": [
            "Gráfico 'histograma_idade.png' gerado.\n"
          ]
        }
      ]
    },
    {
      "cell_type": "code",
      "source": [
        "# --- 2. Gráfico de Pizza: Proporção de Sobreviventes ---\n",
        "plt.figure(figsize=(8, 8))\n",
        "# Mapear os valores para rótulos mais claros\n",
        "sobreviventes_map = df['Survived'].map({0: 'Não Sobreviveu', 1: 'Sobreviveu'})\n",
        "sobreviventes_counts = sobreviventes_map.value_counts()\n",
        "plt.pie(sobreviventes_counts, labels=sobreviventes_counts.index, autopct='%1.1f%%', startangle=90, colors=['#ff6961', '#77dd77'])\n",
        "plt.title('Gráfico de Pizza - Proporção de Sobreviventes', fontsize=16)\n",
        "plt.ylabel('') # Remover o label do eixo y\n",
        "plt.savefig('pizza_sobreviventes.png')\n",
        "plt.close()\n",
        "print(\"Gráfico 'pizza_sobreviventes.png' gerado.\")"
      ],
      "metadata": {
        "colab": {
          "base_uri": "https://localhost:8080/"
        },
        "id": "gz2OLkunksDZ",
        "outputId": "7f72d677-59ea-4700-ef80-caf2786f8060"
      },
      "execution_count": 11,
      "outputs": [
        {
          "output_type": "stream",
          "name": "stdout",
          "text": [
            "Gráfico 'pizza_sobreviventes.png' gerado.\n"
          ]
        }
      ]
    },
    {
      "cell_type": "code",
      "source": [
        "# --- 3. Gráfico de Caixas (Box Plot): Idade por Classe Social ---\n",
        "plt.figure(figsize=(10, 6))\n",
        "sns.boxplot(x='Pclass', y='Age', data=df)\n",
        "plt.title('Box Plot - Distribuição de Idade por Classe', fontsize=16)\n",
        "plt.xlabel('Classe (Pclass)', fontsize=12)\n",
        "plt.ylabel('Idade (Anos)', fontsize=12)\n",
        "plt.xticks(ticks=[0, 1, 2], labels=['1ª Classe', '2ª Classe', '3ª Classe'])\n",
        "plt.savefig('boxplot_idade_por_classe.png')\n",
        "plt.close()\n",
        "print(\"Gráfico 'boxplot_idade_por_classe.png' gerado.\")\n"
      ],
      "metadata": {
        "colab": {
          "base_uri": "https://localhost:8080/"
        },
        "id": "0OeY7WyWn2xq",
        "outputId": "b7888eb0-54f4-476d-feab-17114d28416a"
      },
      "execution_count": 14,
      "outputs": [
        {
          "output_type": "stream",
          "name": "stdout",
          "text": [
            "Gráfico 'boxplot_idade_por_classe.png' gerado.\n"
          ]
        }
      ]
    },
    {
      "cell_type": "code",
      "source": [
        "# --- 4. Gráfico de Dispersão: Idade vs. Tarifa ---\n",
        "plt.figure(figsize=(12, 7))\n",
        "sns.scatterplot(x='Age', y='Fare', hue='Survived', data=df, palette='viridis', alpha=0.7)\n",
        "plt.title('Gráfico de Dispersão - Idade vs. Tarifa paga', fontsize=16)\n",
        "plt.xlabel('Idade (Anos)', fontsize=12)\n",
        "plt.ylabel('Tarifa (Fare)', fontsize=12)\n",
        "# Melhorar a legenda\n",
        "handles, labels = plt.gca().get_legend_handles_labels()\n",
        "plt.legend(handles=handles, labels=['Não Sobreviveu', 'Sobreviveu'], title='Sobreviveu?')\n",
        "plt.savefig('dispersao_idade_vs_tarifa.png')\n",
        "plt.close()\n",
        "print(\"Gráfico 'dispersao_idade_vs_tarifa.png' gerado.\")"
      ],
      "metadata": {
        "colab": {
          "base_uri": "https://localhost:8080/"
        },
        "id": "23pGoLQLn5mh",
        "outputId": "007bfb20-a53c-490c-8737-595c60fb5044"
      },
      "execution_count": 13,
      "outputs": [
        {
          "output_type": "stream",
          "name": "stdout",
          "text": [
            "Gráfico 'dispersao_idade_vs_tarifa.png' gerado.\n"
          ]
        }
      ]
    }
  ]
}